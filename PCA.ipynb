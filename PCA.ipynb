{
  "nbformat": 4,
  "nbformat_minor": 0,
  "metadata": {
    "colab": {
      "name": "PCA.ipynb",
      "provenance": [],
      "authorship_tag": "ABX9TyPFdb1DL4SqmOI/+D1gU8y/",
      "include_colab_link": true
    },
    "kernelspec": {
      "name": "python3",
      "display_name": "Python 3"
    }
  },
  "cells": [
    {
      "cell_type": "markdown",
      "metadata": {
        "id": "view-in-github",
        "colab_type": "text"
      },
      "source": [
        "<a href=\"https://colab.research.google.com/github/ACfma/CMEPDA_exam/blob/main/PCA.ipynb\" target=\"_parent\"><img src=\"https://colab.research.google.com/assets/colab-badge.svg\" alt=\"Open In Colab\"/></a>"
      ]
    },
    {
      "cell_type": "markdown",
      "metadata": {
        "id": "T-lAzvAVSpYR"
      },
      "source": [
        "**Abstract 4**.\n",
        "*Implement an autoencoder to compress the grey matter image segments obtained from the brain MRIs of a cohort of subjects with Alzheimer’s disease and control subjects. Classify the subjects using the latent space representation. Optimize the dimension of the latent space according to the case/control discrimination performance.*"
      ]
    },
    {
      "cell_type": "markdown",
      "metadata": {
        "id": "USoV2X5mS244"
      },
      "source": [
        "### **Introduction**"
      ]
    },
    {
      "cell_type": "markdown",
      "metadata": {
        "id": "qhy_Ws7LS93z"
      },
      "source": [
        "To classifier the AD and CTRL cases we used an SVM method. The input is realized by PCA method to reduce the dimensionality of DATASET.\n",
        "\n",
        "We used the dataset made available at:\n",
        "\n",
        "https://drive.google.com/drive/u/1/folders/1KfFF_ww-MW9z1B-pGaa-qBtSpfy-ckUJ\n",
        "\n",
        "Dataset: Images of the brain MRIs avaible are split in two folder, one (AD_s3) for patients with Alzheimer's disease, and the other one (CTRL_s3) for control subjects. Due to the huge size of the dataset we worked on one or few slices crossing the hippocampus."
      ]
    },
    {
      "cell_type": "markdown",
      "metadata": {
        "id": "GlypzzxrTq-J"
      },
      "source": [
        "### **Reading Data**"
      ]
    },
    {
      "cell_type": "markdown",
      "metadata": {
        "id": "iA9PbydJTyLb"
      },
      "source": [
        "After unziping the folder, we divided dataset into two part:\n",
        "\n",
        "    -dataset_path_AD for patients with Alzheimer's disease;\n",
        "    -dataset_path_CTRL for control subjects.\n"
      ]
    },
    {
      "cell_type": "code",
      "metadata": {
        "colab": {
          "base_uri": "https://localhost:8080/"
        },
        "id": "HDsqyThIUE_m",
        "outputId": "7c18f124-45ea-46a5-b861-964ae8591909"
      },
      "source": [
        "from google.colab import drive\n",
        "drive.mount('/gdrive', force_remount=True)"
      ],
      "execution_count": null,
      "outputs": [
        {
          "output_type": "stream",
          "text": [
            "Mounted at /gdrive\n"
          ],
          "name": "stdout"
        }
      ]
    },
    {
      "cell_type": "code",
      "metadata": {
        "id": "ujjY6VAqUPSP"
      },
      "source": [
        "dataset_path_AD = '/gdrive/MyDrive/content/AD_s3'\n",
        "dataset_path_CTRL = '/gdrive/MyDrive/content/CTRL_s3'"
      ],
      "execution_count": null,
      "outputs": []
    },
    {
      "cell_type": "code",
      "metadata": {
        "colab": {
          "base_uri": "https://localhost:8080/",
          "height": 35
        },
        "id": "N0-f1VQRUSep",
        "outputId": "52b5df48-541e-4d4c-80f7-e95f43ea6a4a"
      },
      "source": [
        "dataset_path_AD"
      ],
      "execution_count": null,
      "outputs": [
        {
          "output_type": "execute_result",
          "data": {
            "application/vnd.google.colaboratory.intrinsic+json": {
              "type": "string"
            },
            "text/plain": [
              "'/gdrive/MyDrive/content/AD_s3'"
            ]
          },
          "metadata": {
            "tags": []
          },
          "execution_count": 3
        }
      ]
    },
    {
      "cell_type": "code",
      "metadata": {
        "colab": {
          "base_uri": "https://localhost:8080/",
          "height": 35
        },
        "id": "SKqZrW4CUU5R",
        "outputId": "ea1af8e0-db4e-4d52-e0b6-6a020a6f0c5f"
      },
      "source": [
        "dataset_path_CTRL"
      ],
      "execution_count": null,
      "outputs": [
        {
          "output_type": "execute_result",
          "data": {
            "application/vnd.google.colaboratory.intrinsic+json": {
              "type": "string"
            },
            "text/plain": [
              "'/gdrive/MyDrive/content/CTRL_s3'"
            ]
          },
          "metadata": {
            "tags": []
          },
          "execution_count": 4
        }
      ]
    },
    {
      "cell_type": "code",
      "metadata": {
        "id": "DZDNruR5WHIN"
      },
      "source": [
        "!unzip -q /gdrive/MyDrive/cmepda_medphys_dataset/IMAGES/AD_CTRL/CTRL_s3.zip -d /gdrive/MyDrive/content/\n"
      ],
      "execution_count": null,
      "outputs": []
    },
    {
      "cell_type": "code",
      "metadata": {
        "colab": {
          "base_uri": "https://localhost:8080/"
        },
        "id": "eL4CZ7MXjguE",
        "outputId": "1771f2df-7875-4130-8653-5f6702e9f734"
      },
      "source": [
        "!ls /gdrive/MyDrive/content/AD_s3/"
      ],
      "execution_count": null,
      "outputs": [
        {
          "output_type": "stream",
          "text": [
            "smwc1AD-100.nii  smwc1AD-133.nii  smwc1AD-35.nii  smwc1AD-68.nii\n",
            "smwc1AD-101.nii  smwc1AD-134.nii  smwc1AD-36.nii  smwc1AD-69.nii\n",
            "smwc1AD-102.nii  smwc1AD-135.nii  smwc1AD-37.nii  smwc1AD-6.nii\n",
            "smwc1AD-103.nii  smwc1AD-136.nii  smwc1AD-38.nii  smwc1AD-70.nii\n",
            "smwc1AD-104.nii  smwc1AD-137.nii  smwc1AD-39.nii  smwc1AD-71.nii\n",
            "smwc1AD-105.nii  smwc1AD-138.nii  smwc1AD-3.nii   smwc1AD-72.nii\n",
            "smwc1AD-106.nii  smwc1AD-139.nii  smwc1AD-40.nii  smwc1AD-73.nii\n",
            "smwc1AD-107.nii  smwc1AD-13.nii   smwc1AD-41.nii  smwc1AD-74.nii\n",
            "smwc1AD-108.nii  smwc1AD-140.nii  smwc1AD-42.nii  smwc1AD-75.nii\n",
            "smwc1AD-109.nii  smwc1AD-141.nii  smwc1AD-43.nii  smwc1AD-76.nii\n",
            "smwc1AD-10.nii\t smwc1AD-142.nii  smwc1AD-44.nii  smwc1AD-77.nii\n",
            "smwc1AD-110.nii  smwc1AD-143.nii  smwc1AD-45.nii  smwc1AD-78.nii\n",
            "smwc1AD-111.nii  smwc1AD-144.nii  smwc1AD-46.nii  smwc1AD-79.nii\n",
            "smwc1AD-112.nii  smwc1AD-14.nii   smwc1AD-47.nii  smwc1AD-7.nii\n",
            "smwc1AD-113.nii  smwc1AD-15.nii   smwc1AD-48.nii  smwc1AD-80.nii\n",
            "smwc1AD-114.nii  smwc1AD-16.nii   smwc1AD-49.nii  smwc1AD-81.nii\n",
            "smwc1AD-115.nii  smwc1AD-17.nii   smwc1AD-4.nii   smwc1AD-82.nii\n",
            "smwc1AD-116.nii  smwc1AD-18.nii   smwc1AD-50.nii  smwc1AD-83.nii\n",
            "smwc1AD-117.nii  smwc1AD-19.nii   smwc1AD-51.nii  smwc1AD-84.nii\n",
            "smwc1AD-118.nii  smwc1AD-1.nii\t  smwc1AD-52.nii  smwc1AD-85.nii\n",
            "smwc1AD-119.nii  smwc1AD-20.nii   smwc1AD-53.nii  smwc1AD-86.nii\n",
            "smwc1AD-11.nii\t smwc1AD-21.nii   smwc1AD-54.nii  smwc1AD-87.nii\n",
            "smwc1AD-120.nii  smwc1AD-22.nii   smwc1AD-55.nii  smwc1AD-88.nii\n",
            "smwc1AD-121.nii  smwc1AD-23.nii   smwc1AD-56.nii  smwc1AD-89.nii\n",
            "smwc1AD-122.nii  smwc1AD-24.nii   smwc1AD-57.nii  smwc1AD-8.nii\n",
            "smwc1AD-123.nii  smwc1AD-25.nii   smwc1AD-58.nii  smwc1AD-90.nii\n",
            "smwc1AD-124.nii  smwc1AD-26.nii   smwc1AD-59.nii  smwc1AD-91.nii\n",
            "smwc1AD-125.nii  smwc1AD-27.nii   smwc1AD-5.nii   smwc1AD-92.nii\n",
            "smwc1AD-126.nii  smwc1AD-28.nii   smwc1AD-60.nii  smwc1AD-93.nii\n",
            "smwc1AD-127.nii  smwc1AD-29.nii   smwc1AD-61.nii  smwc1AD-94.nii\n",
            "smwc1AD-128.nii  smwc1AD-2.nii\t  smwc1AD-62.nii  smwc1AD-95.nii\n",
            "smwc1AD-129.nii  smwc1AD-30.nii   smwc1AD-63.nii  smwc1AD-96.nii\n",
            "smwc1AD-12.nii\t smwc1AD-31.nii   smwc1AD-64.nii  smwc1AD-97.nii\n",
            "smwc1AD-130.nii  smwc1AD-32.nii   smwc1AD-65.nii  smwc1AD-98.nii\n",
            "smwc1AD-131.nii  smwc1AD-33.nii   smwc1AD-66.nii  smwc1AD-99.nii\n",
            "smwc1AD-132.nii  smwc1AD-34.nii   smwc1AD-67.nii  smwc1AD-9.nii\n"
          ],
          "name": "stdout"
        }
      ]
    },
    {
      "cell_type": "code",
      "metadata": {
        "colab": {
          "base_uri": "https://localhost:8080/"
        },
        "id": "zos2KwSJjpam",
        "outputId": "89d62e89-4ac1-47e1-8dbd-bdc076b70b1c"
      },
      "source": [
        "!ls /gdrive/MyDrive/content/CTRL_s3/"
      ],
      "execution_count": null,
      "outputs": [
        {
          "output_type": "stream",
          "text": [
            "smwc1CTRL-100.nii  smwc1CTRL-144.nii  smwc1CTRL-188.nii  smwc1CTRL-5.nii\n",
            "smwc1CTRL-101.nii  smwc1CTRL-145.nii  smwc1CTRL-189.nii  smwc1CTRL-60.nii\n",
            "smwc1CTRL-102.nii  smwc1CTRL-146.nii  smwc1CTRL-18.nii\t smwc1CTRL-61.nii\n",
            "smwc1CTRL-103.nii  smwc1CTRL-147.nii  smwc1CTRL-19.nii\t smwc1CTRL-62.nii\n",
            "smwc1CTRL-104.nii  smwc1CTRL-148.nii  smwc1CTRL-1.nii\t smwc1CTRL-63.nii\n",
            "smwc1CTRL-105.nii  smwc1CTRL-149.nii  smwc1CTRL-20.nii\t smwc1CTRL-64.nii\n",
            "smwc1CTRL-106.nii  smwc1CTRL-14.nii   smwc1CTRL-21.nii\t smwc1CTRL-65.nii\n",
            "smwc1CTRL-107.nii  smwc1CTRL-150.nii  smwc1CTRL-22.nii\t smwc1CTRL-66.nii\n",
            "smwc1CTRL-108.nii  smwc1CTRL-151.nii  smwc1CTRL-23.nii\t smwc1CTRL-67.nii\n",
            "smwc1CTRL-109.nii  smwc1CTRL-152.nii  smwc1CTRL-24.nii\t smwc1CTRL-68.nii\n",
            "smwc1CTRL-10.nii   smwc1CTRL-153.nii  smwc1CTRL-25.nii\t smwc1CTRL-69.nii\n",
            "smwc1CTRL-110.nii  smwc1CTRL-154.nii  smwc1CTRL-26.nii\t smwc1CTRL-6.nii\n",
            "smwc1CTRL-111.nii  smwc1CTRL-155.nii  smwc1CTRL-27.nii\t smwc1CTRL-70.nii\n",
            "smwc1CTRL-112.nii  smwc1CTRL-156.nii  smwc1CTRL-28.nii\t smwc1CTRL-71.nii\n",
            "smwc1CTRL-113.nii  smwc1CTRL-157.nii  smwc1CTRL-29.nii\t smwc1CTRL-72.nii\n",
            "smwc1CTRL-114.nii  smwc1CTRL-158.nii  smwc1CTRL-2.nii\t smwc1CTRL-73.nii\n",
            "smwc1CTRL-115.nii  smwc1CTRL-159.nii  smwc1CTRL-30.nii\t smwc1CTRL-74.nii\n",
            "smwc1CTRL-116.nii  smwc1CTRL-15.nii   smwc1CTRL-31.nii\t smwc1CTRL-75.nii\n",
            "smwc1CTRL-117.nii  smwc1CTRL-160.nii  smwc1CTRL-32.nii\t smwc1CTRL-76.nii\n",
            "smwc1CTRL-118.nii  smwc1CTRL-161.nii  smwc1CTRL-33.nii\t smwc1CTRL-77.nii\n",
            "smwc1CTRL-119.nii  smwc1CTRL-162.nii  smwc1CTRL-34.nii\t smwc1CTRL-78.nii\n",
            "smwc1CTRL-11.nii   smwc1CTRL-163.nii  smwc1CTRL-35.nii\t smwc1CTRL-79.nii\n",
            "smwc1CTRL-120.nii  smwc1CTRL-164.nii  smwc1CTRL-36.nii\t smwc1CTRL-7.nii\n",
            "smwc1CTRL-121.nii  smwc1CTRL-165.nii  smwc1CTRL-37.nii\t smwc1CTRL-80.nii\n",
            "smwc1CTRL-122.nii  smwc1CTRL-166.nii  smwc1CTRL-38.nii\t smwc1CTRL-81.nii\n",
            "smwc1CTRL-123.nii  smwc1CTRL-167.nii  smwc1CTRL-39.nii\t smwc1CTRL-82.nii\n",
            "smwc1CTRL-124.nii  smwc1CTRL-168.nii  smwc1CTRL-3.nii\t smwc1CTRL-83.nii\n",
            "smwc1CTRL-125.nii  smwc1CTRL-169.nii  smwc1CTRL-40.nii\t smwc1CTRL-84.nii\n",
            "smwc1CTRL-126.nii  smwc1CTRL-16.nii   smwc1CTRL-41.nii\t smwc1CTRL-85.nii\n",
            "smwc1CTRL-127.nii  smwc1CTRL-170.nii  smwc1CTRL-42.nii\t smwc1CTRL-86.nii\n",
            "smwc1CTRL-128.nii  smwc1CTRL-171.nii  smwc1CTRL-43.nii\t smwc1CTRL-87.nii\n",
            "smwc1CTRL-129.nii  smwc1CTRL-172.nii  smwc1CTRL-44.nii\t smwc1CTRL-88.nii\n",
            "smwc1CTRL-12.nii   smwc1CTRL-173.nii  smwc1CTRL-45.nii\t smwc1CTRL-89.nii\n",
            "smwc1CTRL-130.nii  smwc1CTRL-174.nii  smwc1CTRL-46.nii\t smwc1CTRL-8.nii\n",
            "smwc1CTRL-131.nii  smwc1CTRL-175.nii  smwc1CTRL-47.nii\t smwc1CTRL-90.nii\n",
            "smwc1CTRL-132.nii  smwc1CTRL-176.nii  smwc1CTRL-48.nii\t smwc1CTRL-91.nii\n",
            "smwc1CTRL-133.nii  smwc1CTRL-177.nii  smwc1CTRL-49.nii\t smwc1CTRL-92.nii\n",
            "smwc1CTRL-134.nii  smwc1CTRL-178.nii  smwc1CTRL-4.nii\t smwc1CTRL-93.nii\n",
            "smwc1CTRL-135.nii  smwc1CTRL-179.nii  smwc1CTRL-50.nii\t smwc1CTRL-94.nii\n",
            "smwc1CTRL-136.nii  smwc1CTRL-17.nii   smwc1CTRL-51.nii\t smwc1CTRL-95.nii\n",
            "smwc1CTRL-137.nii  smwc1CTRL-180.nii  smwc1CTRL-52.nii\t smwc1CTRL-96.nii\n",
            "smwc1CTRL-138.nii  smwc1CTRL-181.nii  smwc1CTRL-53.nii\t smwc1CTRL-97.nii\n",
            "smwc1CTRL-139.nii  smwc1CTRL-182.nii  smwc1CTRL-54.nii\t smwc1CTRL-98.nii\n",
            "smwc1CTRL-13.nii   smwc1CTRL-183.nii  smwc1CTRL-55.nii\t smwc1CTRL-99.nii\n",
            "smwc1CTRL-140.nii  smwc1CTRL-184.nii  smwc1CTRL-56.nii\t smwc1CTRL-9.nii\n",
            "smwc1CTRL-141.nii  smwc1CTRL-185.nii  smwc1CTRL-57.nii\n",
            "smwc1CTRL-142.nii  smwc1CTRL-186.nii  smwc1CTRL-58.nii\n",
            "smwc1CTRL-143.nii  smwc1CTRL-187.nii  smwc1CTRL-59.nii\n"
          ],
          "name": "stdout"
        }
      ]
    },
    {
      "cell_type": "markdown",
      "metadata": {
        "id": "Jh9APwz5kOTH"
      },
      "source": [
        "### **Loading data**"
      ]
    },
    {
      "cell_type": "markdown",
      "metadata": {
        "id": "rtKHYFZQkYFr"
      },
      "source": [
        "Mounted dataset from GoogleDrive now is possibile to \"see\" the images "
      ]
    },
    {
      "cell_type": "code",
      "metadata": {
        "colab": {
          "base_uri": "https://localhost:8080/"
        },
        "id": "j3Etbkm1khvR",
        "outputId": "84385a8b-43a4-45d6-e740-0b7727f89588"
      },
      "source": [
        "! pip install SimpleITK"
      ],
      "execution_count": null,
      "outputs": [
        {
          "output_type": "stream",
          "text": [
            "Collecting SimpleITK\n",
            "\u001b[?25l  Downloading https://files.pythonhosted.org/packages/cc/85/6a7ce61f07cdaca722dd64f028b5678fb0a9e1bf66f534c2f8dd2eb78490/SimpleITK-2.0.2-cp36-cp36m-manylinux2010_x86_64.whl (47.4MB)\n",
            "\u001b[K     |████████████████████████████████| 47.4MB 93kB/s \n",
            "\u001b[?25hInstalling collected packages: SimpleITK\n",
            "Successfully installed SimpleITK-2.0.2\n"
          ],
          "name": "stdout"
        }
      ]
    },
    {
      "cell_type": "code",
      "metadata": {
        "id": "gFQtadG3kqzn"
      },
      "source": [
        "import os\n",
        "import PIL\n",
        "import numpy as np\n",
        "from matplotlib import pyplot as plt\n",
        "import SimpleITK as sitk\n",
        "import glob\n",
        "import math\n",
        "import nibabel as nib\n",
        "from skimage.io import imread"
      ],
      "execution_count": null,
      "outputs": []
    },
    {
      "cell_type": "markdown",
      "metadata": {
        "id": "ZK21eBmukvRU"
      },
      "source": [
        "We used glob module that return a list comprising of all the volumes in the folder where we are."
      ]
    },
    {
      "cell_type": "markdown",
      "metadata": {
        "id": "hVxopCIAlIT_"
      },
      "source": [
        "First of this, we create a folder (ALL_FILES) with all the files."
      ]
    },
    {
      "cell_type": "code",
      "metadata": {
        "id": "X7C_cZ9vlPsV"
      },
      "source": [
        "all_data_path = '/gdrive/MyDrive/content/ALL_FILES'"
      ],
      "execution_count": null,
      "outputs": []
    },
    {
      "cell_type": "code",
      "metadata": {
        "id": "xJzRyLkUlcUK"
      },
      "source": [
        "!unzip -q /gdrive/MyDrive/cmepda_medphys_dataset/IMAGES/AD_CTRL/CTRL_s3.zip -d /gdrive/MyDrive/content/ALL_FILES/"
      ],
      "execution_count": null,
      "outputs": []
    },
    {
      "cell_type": "code",
      "metadata": {
        "id": "NOVTfPyRlo4d"
      },
      "source": [
        "!unzip -q /gdrive/MyDrive/cmepda_medphys_dataset/IMAGES/AD_CTRL/AD_s3.zip -d /gdrive/MyDrive/content/ALL_FILES/"
      ],
      "execution_count": null,
      "outputs": []
    },
    {
      "cell_type": "code",
      "metadata": {
        "colab": {
          "base_uri": "https://localhost:8080/"
        },
        "id": "6WIUC-Lul2VJ",
        "outputId": "a3e82034-d95e-40ac-b6cf-0f234dfab6c0"
      },
      "source": [
        "!ls /gdrive/MyDrive/content/ALL_FILES/"
      ],
      "execution_count": null,
      "outputs": [
        {
          "output_type": "stream",
          "text": [
            "AD_s3  CTRL_s3\n"
          ],
          "name": "stdout"
        }
      ]
    },
    {
      "cell_type": "code",
      "metadata": {
        "id": "xx34mlaek6qf"
      },
      "source": [
        "file_AD = '/gdrive/MyDrive/content/AD_s3/*AD*.nii'\n",
        "\n",
        "images_AD = []\n",
        "data_AD = []\n",
        "\n",
        "for img in glob.glob(os.path.normpath(file_AD), recursive=True):\n",
        "  images_AD.append(sitk.ReadImage(img, imageIO = \"NiftiImageIO\"))\n",
        "data_AD = [sitk.GetArrayViewFromImage(x) for x in images_AD]\n",
        "\n",
        "file_CTRL = '/gdrive/MyDrive/content/CTRL_s3/*CTRL*.nii'\n",
        "\n",
        "images_CTRL = []\n",
        "data_CTRL = []\n",
        "\n",
        "for image in glob.glob(os.path.normpath(file_CTRL), recursive=True):\n",
        "  images_CTRL.append(sitk.ReadImage(image, imageIO = \"NiftiImageIO\"))\n",
        "data_CTRL = [sitk.GetArrayViewFromImage(x) for x in images_CTRL]\n",
        "\n",
        "#from skimage.transform import rescale, resize\n",
        "#resized_CTRL = np.array([resize(image, (128, 128,128),anti_aliasing=True) for image in data_CTRL])#resize images for Autoencoder\n",
        "#resized_AD = np.array([resize(image, (128, 128,128),anti_aliasing=True) for image in data_AD])"
      ],
      "execution_count": null,
      "outputs": []
    },
    {
      "cell_type": "markdown",
      "metadata": {
        "id": "Csmlckcanblr"
      },
      "source": [
        "Let's see an image of CTRL subject against AD subject "
      ]
    },
    {
      "cell_type": "code",
      "metadata": {
        "colab": {
          "base_uri": "https://localhost:8080/",
          "height": 220
        },
        "id": "QSKxKlnjndaS",
        "outputId": "e65984cd-dbcd-4d61-8176-98d3284c9da6"
      },
      "source": [
        "fig, (ax1, ax2) = plt.subplots(1, 2, sharey=True)\n",
        "ax1.imshow(sitk.GetArrayViewFromImage(images_CTRL[0])[:,40,:], cmap = 'Greys_r')\n",
        "ax2.imshow(sitk.GetArrayViewFromImage(images_AD[0])[:,40,:], cmap = 'Greys_r')"
      ],
      "execution_count": null,
      "outputs": [
        {
          "output_type": "execute_result",
          "data": {
            "text/plain": [
              "<matplotlib.image.AxesImage at 0x7f826cf27c50>"
            ]
          },
          "metadata": {
            "tags": []
          },
          "execution_count": 18
        },
        {
          "output_type": "display_data",
          "data": {
            "image/png": "[encoded data removed]",
            "text/plain": [
              "<Figure size 432x288 with 2 Axes>"
            ]
          },
          "metadata": {
            "tags": [],
            "needs_background": "light"
          }
        }
      ]
    },
    {
      "cell_type": "markdown",
      "metadata": {
        "id": "z9ak13rMm2in"
      },
      "source": [
        "### **PCA application**"
      ]
    },
    {
      "cell_type": "markdown",
      "metadata": {
        "id": "EoiUMbz63L36"
      },
      "source": [
        "Principal Component Analysis (PCA) is a linear dimensionality reduction technique that can be utilized for extracting information from a high-dimensional space by projecting it into a lower-dimensional sub-space. It tries to preserve the essential parts that have more variation of the data and remove the non-essential parts with fewer variation."
      ]
    },
    {
      "cell_type": "markdown",
      "metadata": {
        "id": "hbk63QBh43c5"
      },
      "source": [
        "# Load Dataset"
      ]
    },
    {
      "cell_type": "code",
      "metadata": {
        "id": "Wni391bBiDkU"
      },
      "source": [
        "import pandas as pd"
      ],
      "execution_count": 95,
      "outputs": []
    },
    {
      "cell_type": "code",
      "metadata": {
        "colab": {
          "base_uri": "https://localhost:8080/"
        },
        "id": "njtEaX2Hj0aC",
        "outputId": "26043393-4691-4ff3-dfbf-9bdc2b7a5ca6"
      },
      "source": [
        "from google.colab import drive\n",
        "drive.mount('/gdrive', force_remount=True)\n",
        "dataset_file = \"/gdrive/MyDrive/cmepda_medphys_dataset/IMAGES/AD_CTRL/AD_CTRL_metadata.csv\"\n",
        "df = pd.read_table(dataset_file)\n",
        "df.head(333)\n",
        "df.shape"
      ],
      "execution_count": 96,
      "outputs": [
        {
          "output_type": "stream",
          "text": [
            "Mounted at /gdrive\n"
          ],
          "name": "stdout"
        },
        {
          "output_type": "execute_result",
          "data": {
            "text/plain": [
              "(333, 5)"
            ]
          },
          "metadata": {
            "tags": []
          },
          "execution_count": 96
        }
      ]
    },
    {
      "cell_type": "markdown",
      "metadata": {
        "id": "wG_nQCU_3eNJ"
      },
      "source": [
        "After mounting drive, we stamped the entire tab of dataset."
      ]
    },
    {
      "cell_type": "code",
      "metadata": {
        "colab": {
          "base_uri": "https://localhost:8080/",
          "height": 424
        },
        "id": "c8r4qkh9zYt5",
        "outputId": "86d8c034-91e5-4fd0-8d1e-57a78ae12b0c"
      },
      "source": [
        "df.head(333)"
      ],
      "execution_count": 97,
      "outputs": [
        {
          "output_type": "execute_result",
          "data": {
            "text/html": [
              "<div>\n",
              "<style scoped>\n",
              "    .dataframe tbody tr th:only-of-type {\n",
              "        vertical-align: middle;\n",
              "    }\n",
              "\n",
              "    .dataframe tbody tr th {\n",
              "        vertical-align: top;\n",
              "    }\n",
              "\n",
              "    .dataframe thead th {\n",
              "        text-align: right;\n",
              "    }\n",
              "</style>\n",
              "<table border=\"1\" class=\"dataframe\">\n",
              "  <thead>\n",
              "    <tr style=\"text-align: right;\">\n",
              "      <th></th>\n",
              "      <th>ID</th>\n",
              "      <th>DXGROUP</th>\n",
              "      <th>AGE</th>\n",
              "      <th>SEX</th>\n",
              "      <th>MMSE</th>\n",
              "    </tr>\n",
              "  </thead>\n",
              "  <tbody>\n",
              "    <tr>\n",
              "      <th>0</th>\n",
              "      <td>AD-1</td>\n",
              "      <td>AD</td>\n",
              "      <td>75.25</td>\n",
              "      <td>M</td>\n",
              "      <td>23</td>\n",
              "    </tr>\n",
              "    <tr>\n",
              "      <th>1</th>\n",
              "      <td>AD-10</td>\n",
              "      <td>AD</td>\n",
              "      <td>71.43</td>\n",
              "      <td>M</td>\n",
              "      <td>24</td>\n",
              "    </tr>\n",
              "    <tr>\n",
              "      <th>2</th>\n",
              "      <td>AD-100</td>\n",
              "      <td>AD</td>\n",
              "      <td>82.41</td>\n",
              "      <td>F</td>\n",
              "      <td>23</td>\n",
              "    </tr>\n",
              "    <tr>\n",
              "      <th>3</th>\n",
              "      <td>AD-101</td>\n",
              "      <td>AD</td>\n",
              "      <td>87.11</td>\n",
              "      <td>F</td>\n",
              "      <td>21</td>\n",
              "    </tr>\n",
              "    <tr>\n",
              "      <th>4</th>\n",
              "      <td>AD-102</td>\n",
              "      <td>AD</td>\n",
              "      <td>76.01</td>\n",
              "      <td>F</td>\n",
              "      <td>26</td>\n",
              "    </tr>\n",
              "    <tr>\n",
              "      <th>...</th>\n",
              "      <td>...</td>\n",
              "      <td>...</td>\n",
              "      <td>...</td>\n",
              "      <td>...</td>\n",
              "      <td>...</td>\n",
              "    </tr>\n",
              "    <tr>\n",
              "      <th>328</th>\n",
              "      <td>CTRL-95</td>\n",
              "      <td>Normal</td>\n",
              "      <td>77.69</td>\n",
              "      <td>F</td>\n",
              "      <td>30</td>\n",
              "    </tr>\n",
              "    <tr>\n",
              "      <th>329</th>\n",
              "      <td>CTRL-96</td>\n",
              "      <td>Normal</td>\n",
              "      <td>74.04</td>\n",
              "      <td>F</td>\n",
              "      <td>30</td>\n",
              "    </tr>\n",
              "    <tr>\n",
              "      <th>330</th>\n",
              "      <td>CTRL-97</td>\n",
              "      <td>Normal</td>\n",
              "      <td>80.39</td>\n",
              "      <td>M</td>\n",
              "      <td>29</td>\n",
              "    </tr>\n",
              "    <tr>\n",
              "      <th>331</th>\n",
              "      <td>CTRL-98</td>\n",
              "      <td>Normal</td>\n",
              "      <td>81.68</td>\n",
              "      <td>F</td>\n",
              "      <td>29</td>\n",
              "    </tr>\n",
              "    <tr>\n",
              "      <th>332</th>\n",
              "      <td>CTRL-99</td>\n",
              "      <td>Normal</td>\n",
              "      <td>72.35</td>\n",
              "      <td>F</td>\n",
              "      <td>30</td>\n",
              "    </tr>\n",
              "  </tbody>\n",
              "</table>\n",
              "<p>333 rows × 5 columns</p>\n",
              "</div>"
            ],
            "text/plain": [
              "          ID DXGROUP    AGE SEX  MMSE\n",
              "0       AD-1      AD  75.25   M    23\n",
              "1      AD-10      AD  71.43   M    24\n",
              "2     AD-100      AD  82.41   F    23\n",
              "3     AD-101      AD  87.11   F    21\n",
              "4     AD-102      AD  76.01   F    26\n",
              "..       ...     ...    ...  ..   ...\n",
              "328  CTRL-95  Normal  77.69   F    30\n",
              "329  CTRL-96  Normal  74.04   F    30\n",
              "330  CTRL-97  Normal  80.39   M    29\n",
              "331  CTRL-98  Normal  81.68   F    29\n",
              "332  CTRL-99  Normal  72.35   F    30\n",
              "\n",
              "[333 rows x 5 columns]"
            ]
          },
          "metadata": {
            "tags": []
          },
          "execution_count": 97
        }
      ]
    },
    {
      "cell_type": "markdown",
      "metadata": {
        "id": "_OXtVoOF4Dn7"
      },
      "source": [
        "Add a column to split ID information."
      ]
    },
    {
      "cell_type": "code",
      "metadata": {
        "id": "c6_KLkdepUqP"
      },
      "source": [
        "df['Site'] = df['ID'].apply(lambda x: x.split('_')[0])"
      ],
      "execution_count": 98,
      "outputs": []
    },
    {
      "cell_type": "code",
      "metadata": {
        "colab": {
          "base_uri": "https://localhost:8080/"
        },
        "id": "jrPvfMrkpXrx",
        "outputId": "ec1052ad-01ae-4fe2-ace0-d7e8325a7706"
      },
      "source": [
        "df.columns"
      ],
      "execution_count": 99,
      "outputs": [
        {
          "output_type": "execute_result",
          "data": {
            "text/plain": [
              "Index(['ID', 'DXGROUP', 'AGE', 'SEX', 'MMSE', 'Site'], dtype='object')"
            ]
          },
          "metadata": {
            "tags": []
          },
          "execution_count": 99
        }
      ]
    },
    {
      "cell_type": "markdown",
      "metadata": {
        "id": "jvHzODe34Ld3"
      },
      "source": [
        "From this point we change in number all information expressed in letters."
      ]
    },
    {
      "cell_type": "code",
      "metadata": {
        "colab": {
          "base_uri": "https://localhost:8080/",
          "height": 424
        },
        "id": "E45lb5j3sXfk",
        "outputId": "e40d0c48-712d-48ec-ad35-76272ef71cca"
      },
      "source": [
        "df['DXGROUP'] = df.DXGROUP.apply(lambda x: '1' if x=='AD' else '-1')\n",
        "df.head(333)"
      ],
      "execution_count": 100,
      "outputs": [
        {
          "output_type": "execute_result",
          "data": {
            "text/html": [
              "<div>\n",
              "<style scoped>\n",
              "    .dataframe tbody tr th:only-of-type {\n",
              "        vertical-align: middle;\n",
              "    }\n",
              "\n",
              "    .dataframe tbody tr th {\n",
              "        vertical-align: top;\n",
              "    }\n",
              "\n",
              "    .dataframe thead th {\n",
              "        text-align: right;\n",
              "    }\n",
              "</style>\n",
              "<table border=\"1\" class=\"dataframe\">\n",
              "  <thead>\n",
              "    <tr style=\"text-align: right;\">\n",
              "      <th></th>\n",
              "      <th>ID</th>\n",
              "      <th>DXGROUP</th>\n",
              "      <th>AGE</th>\n",
              "      <th>SEX</th>\n",
              "      <th>MMSE</th>\n",
              "      <th>Site</th>\n",
              "    </tr>\n",
              "  </thead>\n",
              "  <tbody>\n",
              "    <tr>\n",
              "      <th>0</th>\n",
              "      <td>AD-1</td>\n",
              "      <td>1</td>\n",
              "      <td>75.25</td>\n",
              "      <td>M</td>\n",
              "      <td>23</td>\n",
              "      <td>AD-1</td>\n",
              "    </tr>\n",
              "    <tr>\n",
              "      <th>1</th>\n",
              "      <td>AD-10</td>\n",
              "      <td>1</td>\n",
              "      <td>71.43</td>\n",
              "      <td>M</td>\n",
              "      <td>24</td>\n",
              "      <td>AD-10</td>\n",
              "    </tr>\n",
              "    <tr>\n",
              "      <th>2</th>\n",
              "      <td>AD-100</td>\n",
              "      <td>1</td>\n",
              "      <td>82.41</td>\n",
              "      <td>F</td>\n",
              "      <td>23</td>\n",
              "      <td>AD-100</td>\n",
              "    </tr>\n",
              "    <tr>\n",
              "      <th>3</th>\n",
              "      <td>AD-101</td>\n",
              "      <td>1</td>\n",
              "      <td>87.11</td>\n",
              "      <td>F</td>\n",
              "      <td>21</td>\n",
              "      <td>AD-101</td>\n",
              "    </tr>\n",
              "    <tr>\n",
              "      <th>4</th>\n",
              "      <td>AD-102</td>\n",
              "      <td>1</td>\n",
              "      <td>76.01</td>\n",
              "      <td>F</td>\n",
              "      <td>26</td>\n",
              "      <td>AD-102</td>\n",
              "    </tr>\n",
              "    <tr>\n",
              "      <th>...</th>\n",
              "      <td>...</td>\n",
              "      <td>...</td>\n",
              "      <td>...</td>\n",
              "      <td>...</td>\n",
              "      <td>...</td>\n",
              "      <td>...</td>\n",
              "    </tr>\n",
              "    <tr>\n",
              "      <th>328</th>\n",
              "      <td>CTRL-95</td>\n",
              "      <td>-1</td>\n",
              "      <td>77.69</td>\n",
              "      <td>F</td>\n",
              "      <td>30</td>\n",
              "      <td>CTRL-95</td>\n",
              "    </tr>\n",
              "    <tr>\n",
              "      <th>329</th>\n",
              "      <td>CTRL-96</td>\n",
              "      <td>-1</td>\n",
              "      <td>74.04</td>\n",
              "      <td>F</td>\n",
              "      <td>30</td>\n",
              "      <td>CTRL-96</td>\n",
              "    </tr>\n",
              "    <tr>\n",
              "      <th>330</th>\n",
              "      <td>CTRL-97</td>\n",
              "      <td>-1</td>\n",
              "      <td>80.39</td>\n",
              "      <td>M</td>\n",
              "      <td>29</td>\n",
              "      <td>CTRL-97</td>\n",
              "    </tr>\n",
              "    <tr>\n",
              "      <th>331</th>\n",
              "      <td>CTRL-98</td>\n",
              "      <td>-1</td>\n",
              "      <td>81.68</td>\n",
              "      <td>F</td>\n",
              "      <td>29</td>\n",
              "      <td>CTRL-98</td>\n",
              "    </tr>\n",
              "    <tr>\n",
              "      <th>332</th>\n",
              "      <td>CTRL-99</td>\n",
              "      <td>-1</td>\n",
              "      <td>72.35</td>\n",
              "      <td>F</td>\n",
              "      <td>30</td>\n",
              "      <td>CTRL-99</td>\n",
              "    </tr>\n",
              "  </tbody>\n",
              "</table>\n",
              "<p>333 rows × 6 columns</p>\n",
              "</div>"
            ],
            "text/plain": [
              "          ID DXGROUP    AGE SEX  MMSE     Site\n",
              "0       AD-1       1  75.25   M    23     AD-1\n",
              "1      AD-10       1  71.43   M    24    AD-10\n",
              "2     AD-100       1  82.41   F    23   AD-100\n",
              "3     AD-101       1  87.11   F    21   AD-101\n",
              "4     AD-102       1  76.01   F    26   AD-102\n",
              "..       ...     ...    ...  ..   ...      ...\n",
              "328  CTRL-95      -1  77.69   F    30  CTRL-95\n",
              "329  CTRL-96      -1  74.04   F    30  CTRL-96\n",
              "330  CTRL-97      -1  80.39   M    29  CTRL-97\n",
              "331  CTRL-98      -1  81.68   F    29  CTRL-98\n",
              "332  CTRL-99      -1  72.35   F    30  CTRL-99\n",
              "\n",
              "[333 rows x 6 columns]"
            ]
          },
          "metadata": {
            "tags": []
          },
          "execution_count": 100
        }
      ]
    },
    {
      "cell_type": "code",
      "metadata": {
        "colab": {
          "base_uri": "https://localhost:8080/",
          "height": 424
        },
        "id": "_2SZBQa1tKY_",
        "outputId": "0366195d-01bd-4984-bfe1-7b5cd47fff1a"
      },
      "source": [
        "df['SEX'] = df.SEX.apply(lambda x: '1' if x=='F' else '-1')\n",
        "df.head(333)"
      ],
      "execution_count": 101,
      "outputs": [
        {
          "output_type": "execute_result",
          "data": {
            "text/html": [
              "<div>\n",
              "<style scoped>\n",
              "    .dataframe tbody tr th:only-of-type {\n",
              "        vertical-align: middle;\n",
              "    }\n",
              "\n",
              "    .dataframe tbody tr th {\n",
              "        vertical-align: top;\n",
              "    }\n",
              "\n",
              "    .dataframe thead th {\n",
              "        text-align: right;\n",
              "    }\n",
              "</style>\n",
              "<table border=\"1\" class=\"dataframe\">\n",
              "  <thead>\n",
              "    <tr style=\"text-align: right;\">\n",
              "      <th></th>\n",
              "      <th>ID</th>\n",
              "      <th>DXGROUP</th>\n",
              "      <th>AGE</th>\n",
              "      <th>SEX</th>\n",
              "      <th>MMSE</th>\n",
              "      <th>Site</th>\n",
              "    </tr>\n",
              "  </thead>\n",
              "  <tbody>\n",
              "    <tr>\n",
              "      <th>0</th>\n",
              "      <td>AD-1</td>\n",
              "      <td>1</td>\n",
              "      <td>75.25</td>\n",
              "      <td>-1</td>\n",
              "      <td>23</td>\n",
              "      <td>AD-1</td>\n",
              "    </tr>\n",
              "    <tr>\n",
              "      <th>1</th>\n",
              "      <td>AD-10</td>\n",
              "      <td>1</td>\n",
              "      <td>71.43</td>\n",
              "      <td>-1</td>\n",
              "      <td>24</td>\n",
              "      <td>AD-10</td>\n",
              "    </tr>\n",
              "    <tr>\n",
              "      <th>2</th>\n",
              "      <td>AD-100</td>\n",
              "      <td>1</td>\n",
              "      <td>82.41</td>\n",
              "      <td>1</td>\n",
              "      <td>23</td>\n",
              "      <td>AD-100</td>\n",
              "    </tr>\n",
              "    <tr>\n",
              "      <th>3</th>\n",
              "      <td>AD-101</td>\n",
              "      <td>1</td>\n",
              "      <td>87.11</td>\n",
              "      <td>1</td>\n",
              "      <td>21</td>\n",
              "      <td>AD-101</td>\n",
              "    </tr>\n",
              "    <tr>\n",
              "      <th>4</th>\n",
              "      <td>AD-102</td>\n",
              "      <td>1</td>\n",
              "      <td>76.01</td>\n",
              "      <td>1</td>\n",
              "      <td>26</td>\n",
              "      <td>AD-102</td>\n",
              "    </tr>\n",
              "    <tr>\n",
              "      <th>...</th>\n",
              "      <td>...</td>\n",
              "      <td>...</td>\n",
              "      <td>...</td>\n",
              "      <td>...</td>\n",
              "      <td>...</td>\n",
              "      <td>...</td>\n",
              "    </tr>\n",
              "    <tr>\n",
              "      <th>328</th>\n",
              "      <td>CTRL-95</td>\n",
              "      <td>-1</td>\n",
              "      <td>77.69</td>\n",
              "      <td>1</td>\n",
              "      <td>30</td>\n",
              "      <td>CTRL-95</td>\n",
              "    </tr>\n",
              "    <tr>\n",
              "      <th>329</th>\n",
              "      <td>CTRL-96</td>\n",
              "      <td>-1</td>\n",
              "      <td>74.04</td>\n",
              "      <td>1</td>\n",
              "      <td>30</td>\n",
              "      <td>CTRL-96</td>\n",
              "    </tr>\n",
              "    <tr>\n",
              "      <th>330</th>\n",
              "      <td>CTRL-97</td>\n",
              "      <td>-1</td>\n",
              "      <td>80.39</td>\n",
              "      <td>-1</td>\n",
              "      <td>29</td>\n",
              "      <td>CTRL-97</td>\n",
              "    </tr>\n",
              "    <tr>\n",
              "      <th>331</th>\n",
              "      <td>CTRL-98</td>\n",
              "      <td>-1</td>\n",
              "      <td>81.68</td>\n",
              "      <td>1</td>\n",
              "      <td>29</td>\n",
              "      <td>CTRL-98</td>\n",
              "    </tr>\n",
              "    <tr>\n",
              "      <th>332</th>\n",
              "      <td>CTRL-99</td>\n",
              "      <td>-1</td>\n",
              "      <td>72.35</td>\n",
              "      <td>1</td>\n",
              "      <td>30</td>\n",
              "      <td>CTRL-99</td>\n",
              "    </tr>\n",
              "  </tbody>\n",
              "</table>\n",
              "<p>333 rows × 6 columns</p>\n",
              "</div>"
            ],
            "text/plain": [
              "          ID DXGROUP    AGE SEX  MMSE     Site\n",
              "0       AD-1       1  75.25  -1    23     AD-1\n",
              "1      AD-10       1  71.43  -1    24    AD-10\n",
              "2     AD-100       1  82.41   1    23   AD-100\n",
              "3     AD-101       1  87.11   1    21   AD-101\n",
              "4     AD-102       1  76.01   1    26   AD-102\n",
              "..       ...     ...    ...  ..   ...      ...\n",
              "328  CTRL-95      -1  77.69   1    30  CTRL-95\n",
              "329  CTRL-96      -1  74.04   1    30  CTRL-96\n",
              "330  CTRL-97      -1  80.39  -1    29  CTRL-97\n",
              "331  CTRL-98      -1  81.68   1    29  CTRL-98\n",
              "332  CTRL-99      -1  72.35   1    30  CTRL-99\n",
              "\n",
              "[333 rows x 6 columns]"
            ]
          },
          "metadata": {
            "tags": []
          },
          "execution_count": 101
        }
      ]
    },
    {
      "cell_type": "markdown",
      "metadata": {
        "id": "xwKYPm-t4SMy"
      },
      "source": [
        "Now, we added a column (DXGROUP_S) to simplify reading of column \"DXGROUP\"."
      ]
    },
    {
      "cell_type": "code",
      "metadata": {
        "colab": {
          "base_uri": "https://localhost:8080/",
          "height": 424
        },
        "id": "isZq0UG9vpCo",
        "outputId": "fc557d5c-82a8-463e-c997-359a62fd1aea"
      },
      "source": [
        "df['DXGROUP_S'] = df.DXGROUP.apply(lambda x: 'Controls' if x=='-1' else 'ASD')\n",
        "df.head(333)"
      ],
      "execution_count": 105,
      "outputs": [
        {
          "output_type": "execute_result",
          "data": {
            "text/html": [
              "<div>\n",
              "<style scoped>\n",
              "    .dataframe tbody tr th:only-of-type {\n",
              "        vertical-align: middle;\n",
              "    }\n",
              "\n",
              "    .dataframe tbody tr th {\n",
              "        vertical-align: top;\n",
              "    }\n",
              "\n",
              "    .dataframe thead th {\n",
              "        text-align: right;\n",
              "    }\n",
              "</style>\n",
              "<table border=\"1\" class=\"dataframe\">\n",
              "  <thead>\n",
              "    <tr style=\"text-align: right;\">\n",
              "      <th></th>\n",
              "      <th>ID</th>\n",
              "      <th>DXGROUP</th>\n",
              "      <th>AGE</th>\n",
              "      <th>SEX</th>\n",
              "      <th>MMSE</th>\n",
              "      <th>Site</th>\n",
              "      <th>DXGROUP_S</th>\n",
              "    </tr>\n",
              "  </thead>\n",
              "  <tbody>\n",
              "    <tr>\n",
              "      <th>0</th>\n",
              "      <td>AD-1</td>\n",
              "      <td>1</td>\n",
              "      <td>75.25</td>\n",
              "      <td>-1</td>\n",
              "      <td>23</td>\n",
              "      <td>AD-1</td>\n",
              "      <td>ASD</td>\n",
              "    </tr>\n",
              "    <tr>\n",
              "      <th>1</th>\n",
              "      <td>AD-10</td>\n",
              "      <td>1</td>\n",
              "      <td>71.43</td>\n",
              "      <td>-1</td>\n",
              "      <td>24</td>\n",
              "      <td>AD-10</td>\n",
              "      <td>ASD</td>\n",
              "    </tr>\n",
              "    <tr>\n",
              "      <th>2</th>\n",
              "      <td>AD-100</td>\n",
              "      <td>1</td>\n",
              "      <td>82.41</td>\n",
              "      <td>1</td>\n",
              "      <td>23</td>\n",
              "      <td>AD-100</td>\n",
              "      <td>ASD</td>\n",
              "    </tr>\n",
              "    <tr>\n",
              "      <th>3</th>\n",
              "      <td>AD-101</td>\n",
              "      <td>1</td>\n",
              "      <td>87.11</td>\n",
              "      <td>1</td>\n",
              "      <td>21</td>\n",
              "      <td>AD-101</td>\n",
              "      <td>ASD</td>\n",
              "    </tr>\n",
              "    <tr>\n",
              "      <th>4</th>\n",
              "      <td>AD-102</td>\n",
              "      <td>1</td>\n",
              "      <td>76.01</td>\n",
              "      <td>1</td>\n",
              "      <td>26</td>\n",
              "      <td>AD-102</td>\n",
              "      <td>ASD</td>\n",
              "    </tr>\n",
              "    <tr>\n",
              "      <th>...</th>\n",
              "      <td>...</td>\n",
              "      <td>...</td>\n",
              "      <td>...</td>\n",
              "      <td>...</td>\n",
              "      <td>...</td>\n",
              "      <td>...</td>\n",
              "      <td>...</td>\n",
              "    </tr>\n",
              "    <tr>\n",
              "      <th>328</th>\n",
              "      <td>CTRL-95</td>\n",
              "      <td>-1</td>\n",
              "      <td>77.69</td>\n",
              "      <td>1</td>\n",
              "      <td>30</td>\n",
              "      <td>CTRL-95</td>\n",
              "      <td>Controls</td>\n",
              "    </tr>\n",
              "    <tr>\n",
              "      <th>329</th>\n",
              "      <td>CTRL-96</td>\n",
              "      <td>-1</td>\n",
              "      <td>74.04</td>\n",
              "      <td>1</td>\n",
              "      <td>30</td>\n",
              "      <td>CTRL-96</td>\n",
              "      <td>Controls</td>\n",
              "    </tr>\n",
              "    <tr>\n",
              "      <th>330</th>\n",
              "      <td>CTRL-97</td>\n",
              "      <td>-1</td>\n",
              "      <td>80.39</td>\n",
              "      <td>-1</td>\n",
              "      <td>29</td>\n",
              "      <td>CTRL-97</td>\n",
              "      <td>Controls</td>\n",
              "    </tr>\n",
              "    <tr>\n",
              "      <th>331</th>\n",
              "      <td>CTRL-98</td>\n",
              "      <td>-1</td>\n",
              "      <td>81.68</td>\n",
              "      <td>1</td>\n",
              "      <td>29</td>\n",
              "      <td>CTRL-98</td>\n",
              "      <td>Controls</td>\n",
              "    </tr>\n",
              "    <tr>\n",
              "      <th>332</th>\n",
              "      <td>CTRL-99</td>\n",
              "      <td>-1</td>\n",
              "      <td>72.35</td>\n",
              "      <td>1</td>\n",
              "      <td>30</td>\n",
              "      <td>CTRL-99</td>\n",
              "      <td>Controls</td>\n",
              "    </tr>\n",
              "  </tbody>\n",
              "</table>\n",
              "<p>333 rows × 7 columns</p>\n",
              "</div>"
            ],
            "text/plain": [
              "          ID DXGROUP    AGE SEX  MMSE     Site DXGROUP_S\n",
              "0       AD-1       1  75.25  -1    23     AD-1       ASD\n",
              "1      AD-10       1  71.43  -1    24    AD-10       ASD\n",
              "2     AD-100       1  82.41   1    23   AD-100       ASD\n",
              "3     AD-101       1  87.11   1    21   AD-101       ASD\n",
              "4     AD-102       1  76.01   1    26   AD-102       ASD\n",
              "..       ...     ...    ...  ..   ...      ...       ...\n",
              "328  CTRL-95      -1  77.69   1    30  CTRL-95  Controls\n",
              "329  CTRL-96      -1  74.04   1    30  CTRL-96  Controls\n",
              "330  CTRL-97      -1  80.39  -1    29  CTRL-97  Controls\n",
              "331  CTRL-98      -1  81.68   1    29  CTRL-98  Controls\n",
              "332  CTRL-99      -1  72.35   1    30  CTRL-99  Controls\n",
              "\n",
              "[333 rows x 7 columns]"
            ]
          },
          "metadata": {
            "tags": []
          },
          "execution_count": 105
        }
      ]
    },
    {
      "cell_type": "code",
      "metadata": {
        "colab": {
          "base_uri": "https://localhost:8080/"
        },
        "id": "TgVhwCIXogF9",
        "outputId": "fe1a1330-d1a2-4e43-8073-07a29f58557e"
      },
      "source": [
        "print(df.DXGROUP_S.unique())\n",
        "print(df.DXGROUP.unique())"
      ],
      "execution_count": 106,
      "outputs": [
        {
          "output_type": "stream",
          "text": [
            "['ASD' 'Controls']\n",
            "['1' '-1']\n"
          ],
          "name": "stdout"
        }
      ]
    },
    {
      "cell_type": "code",
      "metadata": {
        "colab": {
          "base_uri": "https://localhost:8080/"
        },
        "id": "TOclDgWAo53r",
        "outputId": "8c3d8cc2-d5d6-4bd4-eefe-acf679fd45a8"
      },
      "source": [
        "df.groupby('DXGROUP_S')['ID'].count()"
      ],
      "execution_count": 107,
      "outputs": [
        {
          "output_type": "execute_result",
          "data": {
            "text/plain": [
              "DXGROUP_S\n",
              "ASD         144\n",
              "Controls    189\n",
              "Name: ID, dtype: int64"
            ]
          },
          "metadata": {
            "tags": []
          },
          "execution_count": 107
        }
      ]
    },
    {
      "cell_type": "markdown",
      "metadata": {
        "id": "TI800vAc47nb"
      },
      "source": [
        "# Standardize the Data\n",
        "PCA is effected by scale so you need to scale the features in your data before applying PCA. Use StandardScaler to help you standardize the dataset’s features onto unit scale (mean = 0 and variance = 1) which is a requirement for the optimal performance of many machine learning algorithms. "
      ]
    },
    {
      "cell_type": "code",
      "metadata": {
        "id": "Ey_LsZRTqF01"
      },
      "source": [
        "from sklearn.preprocessing import StandardScaler\n",
        "\n",
        "features = ['DXGROUP', 'AGE', 'SEX', 'MMSE']\n",
        "# Separating out the features\n",
        "x = df.loc[:, features].values\n",
        "# Separating out the target\n",
        "y = df.loc[:,['DXGROUP_S']].values\n",
        "# Standardizing the features\n",
        "x = StandardScaler().fit_transform(x)"
      ],
      "execution_count": 115,
      "outputs": []
    },
    {
      "cell_type": "markdown",
      "metadata": {
        "id": "J5oUR_GU5Fw6"
      },
      "source": [
        "# PCA Projection to 2D\n",
        "The original data has 4 columns (dxgroup, age, sex, mmse). In this section, the code projects the original data which is 4 dimensional into 2 dimensions.\n",
        "\n"
      ]
    },
    {
      "cell_type": "code",
      "metadata": {
        "id": "ei6Jp2m8txh8"
      },
      "source": [
        "from sklearn.decomposition import PCA\n",
        "pca = PCA(n_components=2)\n",
        "principalComponents = pca.fit_transform(x)\n",
        "principalDf = pd.DataFrame(data = principalComponents, columns = ['principal component 1', 'principal component 2'])"
      ],
      "execution_count": 116,
      "outputs": []
    },
    {
      "cell_type": "markdown",
      "metadata": {
        "id": "wuACGIOO55PQ"
      },
      "source": [
        "Concatenating DataFrame along axis=1. finalDf is the final DataFrame before plotting the data."
      ]
    },
    {
      "cell_type": "code",
      "metadata": {
        "id": "On4qyaaXuA8O"
      },
      "source": [
        "finalDf = pd.concat([principalDf, df[['DXGROUP_S']]], axis = 1)"
      ],
      "execution_count": 117,
      "outputs": []
    },
    {
      "cell_type": "markdown",
      "metadata": {
        "id": "eLd0hoT_6J8H"
      },
      "source": [
        "# Visalize 2D Projection"
      ]
    },
    {
      "cell_type": "code",
      "metadata": {
        "id": "B8Ew5kakuVaW"
      },
      "source": [
        "import matplotlib.pyplot as plt"
      ],
      "execution_count": 118,
      "outputs": []
    },
    {
      "cell_type": "code",
      "metadata": {
        "colab": {
          "base_uri": "https://localhost:8080/",
          "height": 523
        },
        "id": "9Ek6dl9-uKX-",
        "outputId": "ed219fc5-f037-407a-e8cd-e171c93676d6"
      },
      "source": [
        "fig = plt.figure(figsize = (8,8))\n",
        "ax = fig.add_subplot(1,1,1) \n",
        "ax.set_xlabel('Principal Component 1', fontsize = 15)\n",
        "ax.set_ylabel('Principal Component 2', fontsize = 15)\n",
        "ax.set_title('2 component PCA', fontsize = 20)\n",
        "targets = ['ASD', 'Controls']\n",
        "colors = ['r', 'g']\n",
        "for DXGROUP_S, color in zip(targets,colors):\n",
        "    indicesToKeep = finalDf['DXGROUP_S'] == DXGROUP_S\n",
        "    ax.scatter(finalDf.loc[indicesToKeep, 'principal component 1']\n",
        "               , finalDf.loc[indicesToKeep, 'principal component 2']\n",
        "               , c = color\n",
        "               , s = 50)\n",
        "ax.legend(targets)\n",
        "ax.grid()"
      ],
      "execution_count": 119,
      "outputs": [
        {
          "output_type": "display_data",
          "data": {
            "image/png": "[encoded data removed]",
            "text/plain": [
              "<Figure size 576x576 with 1 Axes>"
            ]
          },
          "metadata": {
            "tags": [],
            "needs_background": "light"
          }
        }
      ]
    },
    {
      "cell_type": "markdown",
      "metadata": {
        "id": "GXUmlGK06WiW"
      },
      "source": [
        "# Explained Variance\n",
        "The explained variance tells you how much information (variance) can be attributed to each of the principal components. This is important as while you can convert 4 dimensional space to 2 dimensional space, you lose some of the variance (information) when you do this. "
      ]
    },
    {
      "cell_type": "code",
      "metadata": {
        "colab": {
          "base_uri": "https://localhost:8080/"
        },
        "id": "W4Uf98tc6V4d",
        "outputId": "11de446b-fa81-40a3-db4b-0d98d822b1d3"
      },
      "source": [
        "pca.explained_variance_ratio_"
      ],
      "execution_count": 120,
      "outputs": [
        {
          "output_type": "execute_result",
          "data": {
            "text/plain": [
              "array([0.46285374, 0.25171374])"
            ]
          },
          "metadata": {
            "tags": []
          },
          "execution_count": 120
        }
      ]
    },
    {
      "cell_type": "markdown",
      "metadata": {
        "id": "PHX7qARz6w1V"
      },
      "source": [
        "By using the attribute explained_variance_ratio_, you can see that the first principal component contains 46.29% of the variance and the second principal component contains 25.17% of the variance. Together, the two components contain 71.46% of the information."
      ]
    }
  ]
}