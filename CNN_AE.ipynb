{
  "nbformat": 4,
  "nbformat_minor": 0,
  "metadata": {
    "colab": {
      "name": "CNN_AE.ipynb",
      "provenance": [],
      "collapsed_sections": [],
      "include_colab_link": true
    },
    "kernelspec": {
      "display_name": "Python 3",
      "name": "python3"
    }
  },
  "cells": [
    {
      "cell_type": "markdown",
      "metadata": {
        "id": "view-in-github",
        "colab_type": "text"
      },
      "source": [
        "<a href=\"https://colab.research.google.com/github/ACfma/CMEPDA_exam/blob/main/CNN_AE.ipynb\" target=\"_parent\"><img src=\"https://colab.research.google.com/assets/colab-badge.svg\" alt=\"Open In Colab\"/></a>"
      ]
    },
    {
      "cell_type": "markdown",
      "metadata": {
        "id": "M58w9e9LfVcc"
      },
      "source": [
        "#Convolution Neural Network for classify the image obtained from the brain MRIs of a cohort of subjects with Alzheimer’s disease and control subjects."
      ]
    },
    {
      "cell_type": "markdown",
      "metadata": {
        "id": "EoagVLSo9T6E"
      },
      "source": [
        "Martina Moglioni, MAT. 606469"
      ]
    },
    {
      "cell_type": "markdown",
      "metadata": {
        "id": "2mOOiEyF9SLP"
      },
      "source": [
        "#Introduction"
      ]
    },
    {
      "cell_type": "markdown",
      "metadata": {
        "id": "ogokvZlVbONo"
      },
      "source": [
        "Semantic Segmentation is a classic Computer Vision problem which involves taking as input some raw data (e.g. 2D or 3D images) and converting them into a mask with regions of interest highlighted.\n",
        "\n",
        "**Objective**: We trained an Auto-Encoder (AE) to compress the grey matter image segments obtained from the brain MRIs of a cohort of subjects with Alzheimer's disease and control subjects.\n",
        "\n",
        "We used the dataset made available at:\n",
        "\n",
        "https://drive.google.com/drive/u/1/folders/1KfFF_ww-MW9z1B-pGaa-qBtSpfy-ckUJ\n",
        "\n",
        "**Dataset**: Images of the brain MRIs avaible are split in two folder, one (AD_s3) for patients with Alzheimer's disease, and the other one (CTRL_s3) for control subjects. *Due to the huge size of the dataset we worked on one or few slices crossing the hippocampus.*"
      ]
    },
    {
      "cell_type": "markdown",
      "metadata": {
        "id": "8DLZCPExa9kl"
      },
      "source": [
        "# Reading Data from GoogleDrive\n",
        "\n",
        "\n"
      ]
    },
    {
      "cell_type": "markdown",
      "metadata": {
        "id": "0xytkQnIeflm"
      },
      "source": [
        "First step is reading dataset avaible at this link: \n",
        "\n",
        "https://drive.google.com/drive/u/1/folders/1KfFF_ww-MW9z1B-pGaa-qBtSpfy-ckUJ\n",
        "\n",
        "Unzip the folder and then classified dataset in two path: \n",
        "*   dataset_path_AD for patients with Alzheimer's disease;\n",
        "*   dataset_path_CTRL for control subjects.\n"
      ]
    },
    {
      "cell_type": "code",
      "metadata": {
        "colab": {
          "base_uri": "https://localhost:8080/"
        },
        "id": "y02WnSSQeNJA",
        "outputId": "536b5fd8-5c3a-43c5-f046-437c1f335793"
      },
      "source": [
        "from google.colab import drive\n",
        "drive.mount('/gdrive', force_remount=True)"
      ],
      "execution_count": 139,
      "outputs": [
        {
          "output_type": "stream",
          "text": [
            "Mounted at /gdrive\n"
          ],
          "name": "stdout"
        }
      ]
    },
    {
      "cell_type": "code",
      "metadata": {
        "id": "DwOw47UleV-P"
      },
      "source": [
        "dataset_path_AD = '/gdrive/MyDrive/AD_CTRL/AD_s3'\n",
        "dataset_path_CTRL = '/gdrive/MyDrive/AD_CTRL/CTRL_s3'"
      ],
      "execution_count": 140,
      "outputs": []
    },
    {
      "cell_type": "markdown",
      "metadata": {
        "id": "JgzC5NbH492Q"
      },
      "source": [
        "For the CNN we use an only folder with all files"
      ]
    },
    {
      "cell_type": "code",
      "metadata": {
        "id": "-cU6s3RC5DDA"
      },
      "source": [
        "all_data_path = '/gdrive/MyDrive/AD_CTRL/ALL_FILES'"
      ],
      "execution_count": 141,
      "outputs": []
    },
    {
      "cell_type": "markdown",
      "metadata": {
        "id": "BYXRMnRdfafU"
      },
      "source": [
        "# Dataset overview, loading data"
      ]
    },
    {
      "cell_type": "markdown",
      "metadata": {
        "id": "NaWkQRazffH1"
      },
      "source": [
        "Mounted dataset from GoogleDrive is now possible to \"see\" the images of the brain MRIs. \n",
        "File format is ble bla bla\n"
      ]
    },
    {
      "cell_type": "code",
      "metadata": {
        "colab": {
          "base_uri": "https://localhost:8080/"
        },
        "id": "0idl_mYUlKsW",
        "outputId": "61237e9e-c2ed-4011-c8a6-6e6eccf15fd8"
      },
      "source": [
        "! pip install SimpleITK"
      ],
      "execution_count": 142,
      "outputs": [
        {
          "output_type": "stream",
          "text": [
            "Requirement already satisfied: SimpleITK in /usr/local/lib/python3.6/dist-packages (2.0.2)\n"
          ],
          "name": "stdout"
        }
      ]
    },
    {
      "cell_type": "code",
      "metadata": {
        "id": "Y5TlEumvfuTk"
      },
      "source": [
        "import os\n",
        "import numpy as np\n",
        "from matplotlib import pyplot as plt\n",
        "import SimpleITK as sitk\n",
        "import glob\n",
        "import nibabel as nib\n",
        "from skimage.io import imread"
      ],
      "execution_count": 143,
      "outputs": []
    },
    {
      "cell_type": "markdown",
      "metadata": {
        "id": "JoI4tbm25l4O"
      },
      "source": [
        "Loading the data: We will use glob module which will return a list comprising of all the volumes in the folder that we heve just specify as \"all_data_path\"."
      ]
    },
    {
      "cell_type": "code",
      "metadata": {
        "id": "DYLkhC5W5tEA"
      },
      "source": [
        "ff = glob.glob(os.path.join(all_data_path, '*.nii'))"
      ],
      "execution_count": 144,
      "outputs": []
    },
    {
      "cell_type": "markdown",
      "metadata": {
        "id": "oQ7tTVr9XImw"
      },
      "source": [
        "Now we can load the 3D volumes using nibabel. Note that when you load a Nifti format volume, Nibabel does not load the image array. It waits until you ask for the array data. The normal way to ask for the array data is to call the get_fdata() method.\n",
        "\n",
        "We want the 2D slices instead of 3D, so we initialise a list in which; every time we read a volume, we will iterate over all the complete slices of the 3D volume and append each slice one by one in to a list."
      ]
    },
    {
      "cell_type": "code",
      "metadata": {
        "colab": {
          "base_uri": "https://localhost:8080/"
        },
        "id": "k2KAsSTsKf7u",
        "outputId": "be205f4d-0b4f-4115-dcc3-9d5a5b2ddd04"
      },
      "source": [
        "images = []\n",
        "for f in range(len(ff)):\n",
        "    a = nib.load(ff[f])\n",
        "    a = a.get_fdata()\n",
        "    a = a[:,40:60,:]\n",
        "    for i in range(a.shape[1]):\n",
        "        images.append((a[:,i,:]))\n",
        "print (a.shape)"
      ],
      "execution_count": 145,
      "outputs": [
        {
          "output_type": "stream",
          "text": [
            "(121, 20, 121)\n"
          ],
          "name": "stdout"
        }
      ]
    },
    {
      "cell_type": "markdown",
      "metadata": {
        "id": "EEt3EJtmX7U7"
      },
      "source": [
        "Since images is a list we use numpy module to convert the list in to a numpy array.\n",
        "It's time to check the shape of the numpy array, the first dimension of the array should be 145 x 333 respectively and the remaining two dimensions will be 121 x 121.\n",
        "Selecting only 20 slices we have the first dimension as 20x333.\n",
        "\n",
        "The images of the dataset are indeed grayscale images with a dimension of 121 x 121 so before we feed the data into the model it is very important to preprocess it. We first convert each 121 x 121 image into a matrix of size 121 x 121 x 1, which we can feed into the network:\n",
        "\n"
      ]
    },
    {
      "cell_type": "code",
      "metadata": {
        "colab": {
          "base_uri": "https://localhost:8080/"
        },
        "id": "t8_YCz1wLAOJ",
        "outputId": "581a8d0f-b18b-4fec-c920-1ccb49c728f6"
      },
      "source": [
        "images = np.asarray(images)\n",
        "print(images.shape)"
      ],
      "execution_count": 146,
      "outputs": [
        {
          "output_type": "stream",
          "text": [
            "(6660, 121, 121)\n"
          ],
          "name": "stdout"
        }
      ]
    },
    {
      "cell_type": "code",
      "metadata": {
        "colab": {
          "base_uri": "https://localhost:8080/"
        },
        "id": "0PQA8pM3LM85",
        "outputId": "b7ee32fe-b92e-4558-c3e4-c01815831709"
      },
      "source": [
        "images = images.reshape(-1, 121,121,1)\n",
        "images.shape"
      ],
      "execution_count": 147,
      "outputs": [
        {
          "output_type": "execute_result",
          "data": {
            "text/plain": [
              "(6660, 121, 121, 1)"
            ]
          },
          "metadata": {
            "tags": []
          },
          "execution_count": 147
        }
      ]
    },
    {
      "cell_type": "markdown",
      "metadata": {
        "id": "-fB57Q4m6vpt"
      },
      "source": [
        " Rescale the data with using max-min normalisation technique:"
      ]
    },
    {
      "cell_type": "code",
      "metadata": {
        "id": "xAdjAFsUF5P0"
      },
      "source": [
        "m = np.max(images)\n",
        "mi = np.min(images)"
      ],
      "execution_count": 148,
      "outputs": []
    },
    {
      "cell_type": "code",
      "metadata": {
        "id": "FFgnkL6oGAGZ"
      },
      "source": [
        "images = (images - mi) / (m - mi)"
      ],
      "execution_count": 149,
      "outputs": []
    },
    {
      "cell_type": "markdown",
      "metadata": {
        "id": "elEaIo5M6xs1"
      },
      "source": [
        "After all of this, it's important to partition the data. We split the data into two parts: a training and a test set. We will train your model on 80% of the data and test it on 20% of the remaining training data.\n",
        "\n",
        "This will probably help us in reducing the chances of overfitting, as we will be testing our model on data it would not have seen in training phase.\n",
        "\n",
        "We use the train_test_split module of scikit-learn to divide the data properly:"
      ]
    },
    {
      "cell_type": "code",
      "metadata": {
        "id": "KveZKG7PvpTO"
      },
      "source": [
        "from sklearn.model_selection import train_test_split\n",
        "from keras.layers import Conv2D, BatchNormalization, MaxPool2D, Dense, Flatten, InputLayer, Activation\n",
        "from keras.models import Sequential\n",
        "\n",
        "x_train, x_test, y_train, y_test = train_test_split(images, images, test_size=0.2, random_state=13)"
      ],
      "execution_count": 150,
      "outputs": []
    },
    {
      "cell_type": "markdown",
      "metadata": {
        "id": "_PAoQacW7a79"
      },
      "source": [
        "Our training images will both act as the input as well as the ground truth similar to the labels we have in classification task."
      ]
    },
    {
      "cell_type": "markdown",
      "metadata": {
        "id": "p2pW9-hy7hQ2"
      },
      "source": [
        "Let's now analyze how images in the dataset look like and also see the dimension of the images once again."
      ]
    },
    {
      "cell_type": "code",
      "metadata": {
        "colab": {
          "base_uri": "https://localhost:8080/"
        },
        "id": "dLhpuDXRZN70",
        "outputId": "ea6c13ce-0ef6-433f-e6b2-cd8d409de79a"
      },
      "source": [
        "print(x_train.shape, y_train.shape)\n",
        "print(x_test.shape, y_test.shape)"
      ],
      "execution_count": 151,
      "outputs": [
        {
          "output_type": "stream",
          "text": [
            "(5328, 121, 121, 1) (5328, 121, 121, 1)\n",
            "(1332, 121, 121, 1) (1332, 121, 121, 1)\n"
          ],
          "name": "stdout"
        }
      ]
    },
    {
      "cell_type": "markdown",
      "metadata": {
        "id": "WfNqg4sc8Et2"
      },
      "source": [
        "For feed the network we reshape our labels (y) as 2d-tensor (the first dimension will be the batch dimension and the second the scalar label):"
      ]
    },
    {
      "cell_type": "code",
      "metadata": {
        "id": "WjHzi6IsdJEG"
      },
      "source": [
        "y_train = np.asarray(x_train).astype('float32').reshape((-1,1))\n",
        "y_test = np.asarray(x_test).astype('float32').reshape((-1,1))"
      ],
      "execution_count": 152,
      "outputs": []
    },
    {
      "cell_type": "code",
      "metadata": {
        "colab": {
          "base_uri": "https://localhost:8080/"
        },
        "id": "1h3qqUktdO3h",
        "outputId": "bbf2adc9-4988-4b5d-cd2e-aa5c47325e61"
      },
      "source": [
        "print(x_train.shape, y_train.shape)\n",
        "print(x_test.shape, y_test.shape)\n"
      ],
      "execution_count": 153,
      "outputs": [
        {
          "output_type": "stream",
          "text": [
            "(5328, 121, 121, 1) (78007248, 1)\n",
            "(1332, 121, 121, 1) (19501812, 1)\n"
          ],
          "name": "stdout"
        }
      ]
    },
    {
      "cell_type": "markdown",
      "metadata": {
        "id": "v3VSv3Oy8OW7"
      },
      "source": [
        "Let's take a look at couple of the training and testing images in our dataset:"
      ]
    },
    {
      "cell_type": "code",
      "metadata": {
        "colab": {
          "base_uri": "https://localhost:8080/",
          "height": 212
        },
        "id": "nQ7KhlrEZ8LK",
        "outputId": "19b8b15e-022f-4fa1-ae16-52c8999a9de4"
      },
      "source": [
        "print(\"Dataset (images) shape: {shape}\".format(shape=images.shape))\n",
        "\n",
        "plt.figure(figsize=[5,5])\n",
        "\n",
        "# Display the first image in training data\n",
        "plt.subplot(121)\n",
        "curr_img = np.reshape(x_train[0], (121,121))\n",
        "plt.imshow(curr_img, cmap='gray')\n",
        "\n",
        "# Display the first image in testing data\n",
        "plt.subplot(122)\n",
        "curr_img = np.reshape(x_test[0], (121,121))\n",
        "plt.imshow(curr_img, cmap='gray')"
      ],
      "execution_count": 154,
      "outputs": [
        {
          "output_type": "stream",
          "text": [
            "Dataset (images) shape: (6660, 121, 121, 1)\n"
          ],
          "name": "stdout"
        },
        {
          "output_type": "execute_result",
          "data": {
            "text/plain": [
              "<matplotlib.image.AxesImage at 0x7fdb790bfba8>"
            ]
          },
          "metadata": {
            "tags": []
          },
          "execution_count": 154
        },
        {
          "output_type": "display_data",
          "data": {
            "image/png": "[encoded data removed]",
            "text/plain": [
              "<Figure size 360x360 with 2 Axes>"
            ]
          },
          "metadata": {
            "tags": [],
            "needs_background": "light"
          }
        }
      ]
    },
    {
      "cell_type": "markdown",
      "metadata": {
        "id": "J5QGwzVl8SPe"
      },
      "source": [
        "#Defining a CNN model"
      ]
    },
    {
      "cell_type": "code",
      "metadata": {
        "id": "7v77aL7KYyzM"
      },
      "source": [
        "def make_model(shape=(121, 121, 1)):\n",
        "  model = Sequential([\n",
        "      \n",
        "      Conv2D(64, (3,3), padding='same', input_shape=shape),\n",
        "      Activation('relu'),\n",
        "      BatchNormalization(),\n",
        "      \n",
        "      MaxPool2D((2,2)),\n",
        "      \n",
        "      Conv2D(128, (3,3), padding='same'),\n",
        "      Activation('relu'),\n",
        "      BatchNormalization(),\n",
        " \n",
        "      MaxPool2D((2,2)),\n",
        "        \n",
        "      Conv2D(512, (3,3), padding='same'),\n",
        "      Activation('relu'),\n",
        "      BatchNormalization(),\n",
        "      \n",
        "      Flatten(), \n",
        "      Dense(1, activation='sigmoid')\n",
        "  ])\n",
        "  \n",
        "  return model"
      ],
      "execution_count": 155,
      "outputs": []
    },
    {
      "cell_type": "markdown",
      "metadata": {
        "id": "KGZ3zpIi8m9K"
      },
      "source": [
        "After the model is created, we compile it using the optimizer to be SGD.\n",
        "\n",
        "Let's visualize the layers that we created in the above step by using the summary function, this will show number of parameters (weights and biases) in each layer and also the total parameters in our model."
      ]
    },
    {
      "cell_type": "code",
      "metadata": {
        "colab": {
          "base_uri": "https://localhost:8080/"
        },
        "id": "4mcvyfj9Zg5c",
        "outputId": "3263b65a-4273-46e1-cba9-fd25b1222021"
      },
      "source": [
        "model = make_model()\n",
        "model.summary()"
      ],
      "execution_count": 156,
      "outputs": [
        {
          "output_type": "stream",
          "text": [
            "Model: \"sequential_7\"\n",
            "_________________________________________________________________\n",
            "Layer (type)                 Output Shape              Param #   \n",
            "=================================================================\n",
            "conv2d_33 (Conv2D)           (None, 121, 121, 64)      640       \n",
            "_________________________________________________________________\n",
            "activation_21 (Activation)   (None, 121, 121, 64)      0         \n",
            "_________________________________________________________________\n",
            "batch_normalization_33 (Batc (None, 121, 121, 64)      256       \n",
            "_________________________________________________________________\n",
            "max_pooling2d_18 (MaxPooling (None, 60, 60, 64)        0         \n",
            "_________________________________________________________________\n",
            "conv2d_34 (Conv2D)           (None, 60, 60, 128)       73856     \n",
            "_________________________________________________________________\n",
            "activation_22 (Activation)   (None, 60, 60, 128)       0         \n",
            "_________________________________________________________________\n",
            "batch_normalization_34 (Batc (None, 60, 60, 128)       512       \n",
            "_________________________________________________________________\n",
            "max_pooling2d_19 (MaxPooling (None, 30, 30, 128)       0         \n",
            "_________________________________________________________________\n",
            "conv2d_35 (Conv2D)           (None, 30, 30, 512)       590336    \n",
            "_________________________________________________________________\n",
            "activation_23 (Activation)   (None, 30, 30, 512)       0         \n",
            "_________________________________________________________________\n",
            "batch_normalization_35 (Batc (None, 30, 30, 512)       2048      \n",
            "_________________________________________________________________\n",
            "flatten_9 (Flatten)          (None, 460800)            0         \n",
            "_________________________________________________________________\n",
            "dense_9 (Dense)              (None, 1)                 460801    \n",
            "=================================================================\n",
            "Total params: 1,128,449\n",
            "Trainable params: 1,127,041\n",
            "Non-trainable params: 1,408\n",
            "_________________________________________________________________\n"
          ],
          "name": "stdout"
        }
      ]
    },
    {
      "cell_type": "code",
      "metadata": {
        "id": "eyEzOH9cZjgH"
      },
      "source": [
        "from keras.optimizers import SGD\n",
        "model.compile(optimizer=SGD(lr=0.001, momentum=0.9), loss='binary_crossentropy', metrics=['accuracy'])"
      ],
      "execution_count": 157,
      "outputs": []
    },
    {
      "cell_type": "code",
      "metadata": {
        "id": "3_LvI8xjZmCi"
      },
      "source": [
        "from keras.callbacks import ModelCheckpoint\n",
        "checkpoint = ModelCheckpoint(\n",
        "    \"model-{epoch:02d}-{val_accuracy:.2f}.hdf5\", \n",
        "    monitor='val_accuracy', \n",
        "    verbose=1,\n",
        "    save_best_only=True,\n",
        "    save_weights_only=False,\n",
        "    mode='auto', save_freq='epoch')"
      ],
      "execution_count": 158,
      "outputs": []
    },
    {
      "cell_type": "markdown",
      "metadata": {
        "id": "7OenCfRg83dZ"
      },
      "source": [
        "It's finally time to train the model with Keras'fit() function. The model trains for 10 epochs. The fit() function will return a history object. "
      ]
    },
    {
      "cell_type": "code",
      "metadata": {
        "colab": {
          "base_uri": "https://localhost:8080/"
        },
        "id": "H1G7XLJIZogi",
        "outputId": "5734ca78-1482-4dd6-9da2-21c794aebdf5"
      },
      "source": [
        "history = model.fit(x_train, y_train, validation_split=0.2, epochs=10, shuffle=True, callbacks=[checkpoint])"
      ],
      "execution_count": null,
      "outputs": [
        {
          "output_type": "stream",
          "text": [
            "Epoch 1/10\n",
            " 42/134 [========>.....................] - ETA: 5:52 - loss: 18.6156 - accuracy: 0.1442"
          ],
          "name": "stdout"
        }
      ]
    },
    {
      "cell_type": "markdown",
      "metadata": {
        "id": "gWOtUr2f9FE8"
      },
      "source": [
        "Let's visualize the model perfomance with a plot."
      ]
    },
    {
      "cell_type": "code",
      "metadata": {
        "id": "FdYvFeNK1AU_"
      },
      "source": [
        "import matplotlib.pyplot as plt\n",
        "plt.plot(history.history['loss'], label ='loss')\n",
        "plt.plot(history.history['val_loss'], label ='val_loss')\n",
        "plt.legend()\n",
        "plt.grid()\n",
        "plt.figure()\n",
        "plt.plot(history.history['val_accuracy'], label ='val_accuracy')\n",
        "plt.plot(history.history['accuracy'], label ='accuracy')\n",
        "plt.legend()\n",
        "plt.grid()"
      ],
      "execution_count": null,
      "outputs": []
    }
  ]
}